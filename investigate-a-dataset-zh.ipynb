{
 "cells": [
  {
   "cell_type": "markdown",
   "metadata": {},
   "source": [
    "# 探索数据集 - 未前往就诊的挂号预约\n",
    "\n",
    "## 目录\n",
    "<ul>\n",
    "<li><a href=\"#intro\">简介</a></li>\n",
    "<li><a href=\"#wrangling\">数据整理</a></li>\n",
    "<li><a href=\"#eda\">探索性数据分析</a></li>\n",
    "<li><a href=\"#conclusions\">结论</a></li>\n",
    "</ul>\n",
    "\n",
    "<a id='intro'></a>\n",
    "## 简介\n",
    "\n",
    "数据集包含10万条巴西预约挂号的求诊信息，研究病人是否如约前往医院就诊。"
   ]
  },
  {
   "cell_type": "code",
   "execution_count": 1,
   "metadata": {
    "scrolled": true
   },
   "outputs": [],
   "source": [
    "import pandas as pd\n",
    "import numpy as np\n",
    "import matplotlib.pyplot as plt\n",
    "%matplotlib inline"
   ]
  },
  {
   "cell_type": "markdown",
   "metadata": {},
   "source": [
    "<a id='wrangling'></a>\n",
    "## 数据整理\n",
    "### 常规属性"
   ]
  },
  {
   "cell_type": "code",
   "execution_count": 2,
   "metadata": {
    "scrolled": true
   },
   "outputs": [
    {
     "data": {
      "text/html": [
       "<div>\n",
       "<style scoped>\n",
       "    .dataframe tbody tr th:only-of-type {\n",
       "        vertical-align: middle;\n",
       "    }\n",
       "\n",
       "    .dataframe tbody tr th {\n",
       "        vertical-align: top;\n",
       "    }\n",
       "\n",
       "    .dataframe thead th {\n",
       "        text-align: right;\n",
       "    }\n",
       "</style>\n",
       "<table border=\"1\" class=\"dataframe\">\n",
       "  <thead>\n",
       "    <tr style=\"text-align: right;\">\n",
       "      <th></th>\n",
       "      <th>PatientId</th>\n",
       "      <th>AppointmentID</th>\n",
       "      <th>Gender</th>\n",
       "      <th>ScheduledDay</th>\n",
       "      <th>AppointmentDay</th>\n",
       "      <th>Age</th>\n",
       "      <th>Neighbourhood</th>\n",
       "      <th>Scholarship</th>\n",
       "      <th>Hipertension</th>\n",
       "      <th>Diabetes</th>\n",
       "      <th>Alcoholism</th>\n",
       "      <th>Handcap</th>\n",
       "      <th>SMS_received</th>\n",
       "      <th>No-show</th>\n",
       "    </tr>\n",
       "  </thead>\n",
       "  <tbody>\n",
       "    <tr>\n",
       "      <th>98289</th>\n",
       "      <td>5.463387e+12</td>\n",
       "      <td>5744293</td>\n",
       "      <td>F</td>\n",
       "      <td>2016-05-30T10:04:37Z</td>\n",
       "      <td>2016-06-01T00:00:00Z</td>\n",
       "      <td>17</td>\n",
       "      <td>JABOUR</td>\n",
       "      <td>0</td>\n",
       "      <td>0</td>\n",
       "      <td>0</td>\n",
       "      <td>0</td>\n",
       "      <td>0</td>\n",
       "      <td>0</td>\n",
       "      <td>No</td>\n",
       "    </tr>\n",
       "    <tr>\n",
       "      <th>30833</th>\n",
       "      <td>9.134486e+11</td>\n",
       "      <td>5746753</td>\n",
       "      <td>F</td>\n",
       "      <td>2016-05-30T14:29:31Z</td>\n",
       "      <td>2016-05-30T00:00:00Z</td>\n",
       "      <td>29</td>\n",
       "      <td>SANTA CLARA</td>\n",
       "      <td>0</td>\n",
       "      <td>0</td>\n",
       "      <td>0</td>\n",
       "      <td>0</td>\n",
       "      <td>0</td>\n",
       "      <td>0</td>\n",
       "      <td>No</td>\n",
       "    </tr>\n",
       "    <tr>\n",
       "      <th>44108</th>\n",
       "      <td>3.613194e+13</td>\n",
       "      <td>5593938</td>\n",
       "      <td>M</td>\n",
       "      <td>2016-04-18T10:01:41Z</td>\n",
       "      <td>2016-05-10T00:00:00Z</td>\n",
       "      <td>1</td>\n",
       "      <td>SÃO JOSÉ</td>\n",
       "      <td>0</td>\n",
       "      <td>0</td>\n",
       "      <td>0</td>\n",
       "      <td>0</td>\n",
       "      <td>0</td>\n",
       "      <td>1</td>\n",
       "      <td>Yes</td>\n",
       "    </tr>\n",
       "  </tbody>\n",
       "</table>\n",
       "</div>"
      ],
      "text/plain": [
       "          PatientId  AppointmentID Gender          ScheduledDay  \\\n",
       "98289  5.463387e+12        5744293      F  2016-05-30T10:04:37Z   \n",
       "30833  9.134486e+11        5746753      F  2016-05-30T14:29:31Z   \n",
       "44108  3.613194e+13        5593938      M  2016-04-18T10:01:41Z   \n",
       "\n",
       "             AppointmentDay  Age Neighbourhood  Scholarship  Hipertension  \\\n",
       "98289  2016-06-01T00:00:00Z   17        JABOUR            0             0   \n",
       "30833  2016-05-30T00:00:00Z   29   SANTA CLARA            0             0   \n",
       "44108  2016-05-10T00:00:00Z    1      SÃO JOSÉ            0             0   \n",
       "\n",
       "       Diabetes  Alcoholism  Handcap  SMS_received No-show  \n",
       "98289         0           0        0             0      No  \n",
       "30833         0           0        0             0      No  \n",
       "44108         0           0        0             1     Yes  "
      ]
     },
     "execution_count": 2,
     "metadata": {},
     "output_type": "execute_result"
    }
   ],
   "source": [
    "df = pd.read_csv('noshowappointments-kagglev2-may-2016.csv')\n",
    "df.sample(3)"
   ]
  },
  {
   "cell_type": "code",
   "execution_count": 3,
   "metadata": {
    "scrolled": false
   },
   "outputs": [
    {
     "name": "stdout",
     "output_type": "stream",
     "text": [
      "<class 'pandas.core.frame.DataFrame'>\n",
      "RangeIndex: 110527 entries, 0 to 110526\n",
      "Data columns (total 14 columns):\n",
      "PatientId         110527 non-null float64\n",
      "AppointmentID     110527 non-null int64\n",
      "Gender            110527 non-null object\n",
      "ScheduledDay      110527 non-null object\n",
      "AppointmentDay    110527 non-null object\n",
      "Age               110527 non-null int64\n",
      "Neighbourhood     110527 non-null object\n",
      "Scholarship       110527 non-null int64\n",
      "Hipertension      110527 non-null int64\n",
      "Diabetes          110527 non-null int64\n",
      "Alcoholism        110527 non-null int64\n",
      "Handcap           110527 non-null int64\n",
      "SMS_received      110527 non-null int64\n",
      "No-show           110527 non-null object\n",
      "dtypes: float64(1), int64(8), object(5)\n",
      "memory usage: 11.8+ MB\n"
     ]
    }
   ],
   "source": [
    "df.info()"
   ]
  },
  {
   "cell_type": "markdown",
   "metadata": {},
   "source": [
    "#### 研究这个数据包主要为了探究未前往就诊的患者情况\n",
    "#### 数据包中信息包括患者ID，性别，患者年龄，医院所在地区，预约ID，预约时间，约定时间，患者是否参与家庭支持计划，是否收到预约成功短信，患者病症，是否前往就诊等信息。"
   ]
  },
  {
   "cell_type": "markdown",
   "metadata": {},
   "source": [
    "##### Q1：患者是否收到短信通知对失约率有无影响？\n",
    "##### Q2：患者年龄对失约率有无影响？\n",
    "##### Q3：患者是否参加福利项目，对失约率有无影响？\n",
    "##### Q4：患者是否酗酒，对失约率有无影响？\n",
    "##### Q5：患者的性别，对失约率有无影响？\n",
    "\n"
   ]
  },
  {
   "cell_type": "markdown",
   "metadata": {},
   "source": [
    "### 数据清理"
   ]
  },
  {
   "cell_type": "code",
   "execution_count": 4,
   "metadata": {
    "scrolled": true
   },
   "outputs": [],
   "source": [
    "# 整理列名\n",
    "df.rename(columns=lambda x: x.lower(), inplace=True)"
   ]
  },
  {
   "cell_type": "code",
   "execution_count": 5,
   "metadata": {
    "scrolled": true
   },
   "outputs": [],
   "source": [
    "# 整理列名\n",
    "df.rename(columns={'no-show':'no_show'}, inplace=True)"
   ]
  },
  {
   "cell_type": "code",
   "execution_count": 6,
   "metadata": {
    "scrolled": true
   },
   "outputs": [],
   "source": [
    "# 整理no_show列内容用\"1,0\"表示\n",
    "df['no_show'].replace(['Yes', 'No'], [1, 0], inplace=True)"
   ]
  },
  {
   "cell_type": "code",
   "execution_count": 7,
   "metadata": {
    "scrolled": true
   },
   "outputs": [],
   "source": [
    "# 将ID列类型改为字符串\n",
    "df['patientid'] = df['patientid'].astype(str, inplace=True)"
   ]
  },
  {
   "cell_type": "code",
   "execution_count": 8,
   "metadata": {
    "scrolled": true
   },
   "outputs": [],
   "source": [
    "# 将ID列类型改为字符串\n",
    "df['appointmentid'] = df['appointmentid'].astype(str, inplace=True)"
   ]
  },
  {
   "cell_type": "code",
   "execution_count": 9,
   "metadata": {
    "scrolled": true
   },
   "outputs": [
    {
     "name": "stdout",
     "output_type": "stream",
     "text": [
      "<class 'pandas.core.frame.DataFrame'>\n",
      "RangeIndex: 110527 entries, 0 to 110526\n",
      "Data columns (total 14 columns):\n",
      "patientid         110527 non-null object\n",
      "appointmentid     110527 non-null object\n",
      "gender            110527 non-null object\n",
      "scheduledday      110527 non-null object\n",
      "appointmentday    110527 non-null object\n",
      "age               110527 non-null int64\n",
      "neighbourhood     110527 non-null object\n",
      "scholarship       110527 non-null int64\n",
      "hipertension      110527 non-null int64\n",
      "diabetes          110527 non-null int64\n",
      "alcoholism        110527 non-null int64\n",
      "handcap           110527 non-null int64\n",
      "sms_received      110527 non-null int64\n",
      "no_show           110527 non-null int64\n",
      "dtypes: int64(8), object(6)\n",
      "memory usage: 11.8+ MB\n"
     ]
    }
   ],
   "source": [
    "df.info()"
   ]
  },
  {
   "cell_type": "code",
   "execution_count": 10,
   "metadata": {
    "scrolled": true
   },
   "outputs": [
    {
     "data": {
      "text/plain": [
       "0"
      ]
     },
     "execution_count": 10,
     "metadata": {},
     "output_type": "execute_result"
    }
   ],
   "source": [
    "df.duplicated().sum()"
   ]
  },
  {
   "cell_type": "code",
   "execution_count": 11,
   "metadata": {
    "scrolled": true
   },
   "outputs": [],
   "source": [
    "# 为年龄分组，未成年人0-18岁，成年人18-45岁，中年人45-70岁，老年人70岁以上\n",
    "age_labels = ['Minor', 'Adult', 'Middle-aged', 'Elder']\n",
    "df = df.copy()\n",
    "df.insert(6, 'age_cut',pd.cut(df['age'],bins=[-1,18,45,70,150],labels=age_labels))"
   ]
  },
  {
   "cell_type": "code",
   "execution_count": 12,
   "metadata": {
    "scrolled": true
   },
   "outputs": [
    {
     "name": "stdout",
     "output_type": "stream",
     "text": [
      "<class 'pandas.core.frame.DataFrame'>\n",
      "RangeIndex: 110527 entries, 0 to 110526\n",
      "Data columns (total 15 columns):\n",
      "patientid         110527 non-null object\n",
      "appointmentid     110527 non-null object\n",
      "gender            110527 non-null object\n",
      "scheduledday      110527 non-null object\n",
      "appointmentday    110527 non-null object\n",
      "age               110527 non-null int64\n",
      "age_cut           110526 non-null category\n",
      "neighbourhood     110527 non-null object\n",
      "scholarship       110527 non-null int64\n",
      "hipertension      110527 non-null int64\n",
      "diabetes          110527 non-null int64\n",
      "alcoholism        110527 non-null int64\n",
      "handcap           110527 non-null int64\n",
      "sms_received      110527 non-null int64\n",
      "no_show           110527 non-null int64\n",
      "dtypes: category(1), int64(8), object(6)\n",
      "memory usage: 11.9+ MB\n"
     ]
    }
   ],
   "source": [
    "df.info()"
   ]
  },
  {
   "cell_type": "code",
   "execution_count": 13,
   "metadata": {},
   "outputs": [
    {
     "data": {
      "text/html": [
       "<div>\n",
       "<style scoped>\n",
       "    .dataframe tbody tr th:only-of-type {\n",
       "        vertical-align: middle;\n",
       "    }\n",
       "\n",
       "    .dataframe tbody tr th {\n",
       "        vertical-align: top;\n",
       "    }\n",
       "\n",
       "    .dataframe thead th {\n",
       "        text-align: right;\n",
       "    }\n",
       "</style>\n",
       "<table border=\"1\" class=\"dataframe\">\n",
       "  <thead>\n",
       "    <tr style=\"text-align: right;\">\n",
       "      <th></th>\n",
       "      <th>patientid</th>\n",
       "      <th>appointmentid</th>\n",
       "      <th>gender</th>\n",
       "      <th>scheduledday</th>\n",
       "      <th>appointmentday</th>\n",
       "      <th>age</th>\n",
       "      <th>age_cut</th>\n",
       "      <th>neighbourhood</th>\n",
       "      <th>scholarship</th>\n",
       "      <th>hipertension</th>\n",
       "      <th>diabetes</th>\n",
       "      <th>alcoholism</th>\n",
       "      <th>handcap</th>\n",
       "      <th>sms_received</th>\n",
       "      <th>no_show</th>\n",
       "    </tr>\n",
       "  </thead>\n",
       "  <tbody>\n",
       "    <tr>\n",
       "      <th>99832</th>\n",
       "      <td>465943158731293.0</td>\n",
       "      <td>5775010</td>\n",
       "      <td>F</td>\n",
       "      <td>2016-06-06T08:58:13Z</td>\n",
       "      <td>2016-06-06T00:00:00Z</td>\n",
       "      <td>-1</td>\n",
       "      <td>NaN</td>\n",
       "      <td>ROMÃO</td>\n",
       "      <td>0</td>\n",
       "      <td>0</td>\n",
       "      <td>0</td>\n",
       "      <td>0</td>\n",
       "      <td>0</td>\n",
       "      <td>0</td>\n",
       "      <td>0</td>\n",
       "    </tr>\n",
       "  </tbody>\n",
       "</table>\n",
       "</div>"
      ],
      "text/plain": [
       "               patientid appointmentid gender          scheduledday  \\\n",
       "99832  465943158731293.0       5775010      F  2016-06-06T08:58:13Z   \n",
       "\n",
       "             appointmentday  age age_cut neighbourhood  scholarship  \\\n",
       "99832  2016-06-06T00:00:00Z   -1     NaN         ROMÃO            0   \n",
       "\n",
       "       hipertension  diabetes  alcoholism  handcap  sms_received  no_show  \n",
       "99832             0         0           0        0             0        0  "
      ]
     },
     "execution_count": 13,
     "metadata": {},
     "output_type": "execute_result"
    }
   ],
   "source": [
    "df[df.isnull().values==True]"
   ]
  },
  {
   "cell_type": "code",
   "execution_count": 14,
   "metadata": {},
   "outputs": [],
   "source": [
    "#剔除年龄为-1的数据\n",
    "df.drop([99832], inplace=True)"
   ]
  },
  {
   "cell_type": "code",
   "execution_count": 15,
   "metadata": {},
   "outputs": [
    {
     "name": "stdout",
     "output_type": "stream",
     "text": [
      "<class 'pandas.core.frame.DataFrame'>\n",
      "Int64Index: 110526 entries, 0 to 110526\n",
      "Data columns (total 15 columns):\n",
      "patientid         110526 non-null object\n",
      "appointmentid     110526 non-null object\n",
      "gender            110526 non-null object\n",
      "scheduledday      110526 non-null object\n",
      "appointmentday    110526 non-null object\n",
      "age               110526 non-null int64\n",
      "age_cut           110526 non-null category\n",
      "neighbourhood     110526 non-null object\n",
      "scholarship       110526 non-null int64\n",
      "hipertension      110526 non-null int64\n",
      "diabetes          110526 non-null int64\n",
      "alcoholism        110526 non-null int64\n",
      "handcap           110526 non-null int64\n",
      "sms_received      110526 non-null int64\n",
      "no_show           110526 non-null int64\n",
      "dtypes: category(1), int64(8), object(6)\n",
      "memory usage: 12.8+ MB\n"
     ]
    }
   ],
   "source": [
    "df.info()"
   ]
  },
  {
   "cell_type": "code",
   "execution_count": 16,
   "metadata": {
    "scrolled": true
   },
   "outputs": [
    {
     "data": {
      "text/plain": [
       "(22319, 15)"
      ]
     },
     "execution_count": 16,
     "metadata": {},
     "output_type": "execute_result"
    }
   ],
   "source": [
    "df[df['no_show']==1].shape"
   ]
  },
  {
   "cell_type": "markdown",
   "metadata": {},
   "source": [
    "数据表中共计录入110527条数据，其中1条数据因年龄填写为-1被判为无效数据，\n",
    "\n",
    "共计有效数据110526条，未就诊预约共计22319条，总失约率约为20.2%。"
   ]
  },
  {
   "cell_type": "markdown",
   "metadata": {},
   "source": [
    "<a id='eda'></a>\n",
    "## 探索性数据分析\n",
    "\n",
    "### Q1：患者是否收到短信通知对失约率有无影响？"
   ]
  },
  {
   "cell_type": "code",
   "execution_count": 17,
   "metadata": {},
   "outputs": [
    {
     "data": {
      "image/png": "[encoded data removed]",
      "text/plain": [
       "<Figure size 360x360 with 1 Axes>"
      ]
     },
     "metadata": {},
     "output_type": "display_data"
    }
   ],
   "source": [
    "df['sms_received'].value_counts().plot.pie(explode=[0.2,0.1],autopct='%.2f%%', figsize=(5, 5))\n",
    "plt.title('Sms Received VS Percentage');"
   ]
  },
  {
   "cell_type": "markdown",
   "metadata": {},
   "source": [
    "数据显示收到短信的患者约占32.1%，未收到短信的患者约占67.9%。"
   ]
  },
  {
   "cell_type": "code",
   "execution_count": 18,
   "metadata": {
    "scrolled": true
   },
   "outputs": [
    {
     "name": "stdout",
     "output_type": "stream",
     "text": [
      "sms_received\n",
      "0    0.167035\n",
      "1    0.275745\n",
      "Name: no_show, dtype: float64\n"
     ]
    }
   ],
   "source": [
    "sms_rate = df.groupby('sms_received')['no_show'].mean()\n",
    "print(sms_rate)"
   ]
  },
  {
   "cell_type": "code",
   "execution_count": 19,
   "metadata": {
    "scrolled": true
   },
   "outputs": [
    {
     "data": {
      "image/png": "[encoded data removed]",
      "text/plain": [
       "<Figure size 432x288 with 1 Axes>"
      ]
     },
     "metadata": {
      "needs_background": "light"
     },
     "output_type": "display_data"
    }
   ],
   "source": [
    "locations = [1, 2]\n",
    "heights = [sms_rate[0], sms_rate[1]]\n",
    "labels = ['Received', 'Not']\n",
    "plt.bar(locations, heights, tick_label=labels)\n",
    "plt.title('SMS Received VS No-Show')\n",
    "plt.xlabel('SMS Received or NOT')\n",
    "plt.ylabel('No-Showed Rating');"
   ]
  },
  {
   "cell_type": "markdown",
   "metadata": {},
   "source": [
    "收到短信的患者失约率约为16.7%，未收到短信的患者失约率约为27.6%，相较而言未收到短信的患者失约率更高。"
   ]
  },
  {
   "cell_type": "markdown",
   "metadata": {},
   "source": [
    "### Q2：患者年龄对失约率有无影响？"
   ]
  },
  {
   "cell_type": "code",
   "execution_count": 20,
   "metadata": {},
   "outputs": [
    {
     "data": {
      "image/png": "[encoded data removed]",
      "text/plain": [
       "<Figure size 360x360 with 1 Axes>"
      ]
     },
     "metadata": {},
     "output_type": "display_data"
    }
   ],
   "source": [
    "df['age_cut'].value_counts().plot.pie(explode=[0.2,0.1,0.1,0.1],autopct='%.2f%%', figsize=(5, 5))\n",
    "plt.title('Neighbourhood VS Percentage');"
   ]
  },
  {
   "cell_type": "markdown",
   "metadata": {},
   "source": [
    "数据显示未成年患者约占26.12%，成年患者约占35.03%，中年患者约占31.09%，老年患者约占7.76%。"
   ]
  },
  {
   "cell_type": "code",
   "execution_count": 21,
   "metadata": {
    "scrolled": true
   },
   "outputs": [
    {
     "name": "stdout",
     "output_type": "stream",
     "text": [
      "age_cut\n",
      "Minor          0.219878\n",
      "Adult          0.228183\n",
      "Middle-aged    0.168151\n",
      "Elder          0.158404\n",
      "Name: no_show, dtype: float64\n"
     ]
    }
   ],
   "source": [
    "age_rate = df.groupby('age_cut')['no_show'].mean()\n",
    "print(age_rate)"
   ]
  },
  {
   "cell_type": "code",
   "execution_count": 22,
   "metadata": {
    "scrolled": true
   },
   "outputs": [
    {
     "data": {
      "image/png": "[encoded data removed]",
      "text/plain": [
       "<Figure size 432x288 with 1 Axes>"
      ]
     },
     "metadata": {
      "needs_background": "light"
     },
     "output_type": "display_data"
    }
   ],
   "source": [
    "locations = [1, 2, 3, 4]\n",
    "heights = [age_rate[0], age_rate[1], age_rate[2], age_rate[3]]\n",
    "labels = ['Minor', 'Adult', 'Middle-aged', 'Elder']\n",
    "plt.bar(locations, heights, tick_label=labels)\n",
    "plt.title('Age Group VS No-Show')\n",
    "plt.xlabel('Age Group')\n",
    "plt.ylabel('No-Showed Rating');"
   ]
  },
  {
   "cell_type": "markdown",
   "metadata": {},
   "source": [
    "未成年人组失约率约22.0%，成年人约22.8%，中年人和老年人相对较低，分别约为16.8%和15.8%。相较而言中年以下年龄段的患者失约率更高。"
   ]
  },
  {
   "cell_type": "markdown",
   "metadata": {},
   "source": [
    "### Q3：患者是否参加福利项目，对失约率有无影响？"
   ]
  },
  {
   "cell_type": "code",
   "execution_count": 23,
   "metadata": {},
   "outputs": [
    {
     "data": {
      "image/png": "[encoded data removed]",
      "text/plain": [
       "<Figure size 360x360 with 1 Axes>"
      ]
     },
     "metadata": {},
     "output_type": "display_data"
    }
   ],
   "source": [
    "df['scholarship'].value_counts().plot.pie(explode=[0.2,0.1],autopct='%.2f%%', figsize=(5, 5))\n",
    "plt.title('Scholarship VS Percentage');"
   ]
  },
  {
   "cell_type": "markdown",
   "metadata": {},
   "source": [
    "数据显示参加福利项目的患者约占9.83%，未参加福利项目的患者约占90.17%。"
   ]
  },
  {
   "cell_type": "code",
   "execution_count": 24,
   "metadata": {
    "scrolled": true
   },
   "outputs": [
    {
     "name": "stdout",
     "output_type": "stream",
     "text": [
      "scholarship\n",
      "0    0.198074\n",
      "1    0.237363\n",
      "Name: no_show, dtype: float64\n"
     ]
    }
   ],
   "source": [
    "sch_rate = df.groupby('scholarship')['no_show'].mean()\n",
    "print(sch_rate)"
   ]
  },
  {
   "cell_type": "code",
   "execution_count": 25,
   "metadata": {
    "scrolled": true
   },
   "outputs": [
    {
     "data": {
      "image/png": "[encoded data removed]",
      "text/plain": [
       "<Figure size 432x288 with 1 Axes>"
      ]
     },
     "metadata": {
      "needs_background": "light"
     },
     "output_type": "display_data"
    }
   ],
   "source": [
    "locations = [1, 2]\n",
    "heights = [sch_rate[0], sch_rate[1]]\n",
    "labels = ['Not', 'Got Scholarship']\n",
    "plt.bar(locations, heights, tick_label=labels)\n",
    "plt.title('Scholarship VS No-Show')\n",
    "plt.xlabel('Got Scholarship or NOT')\n",
    "plt.ylabel('No-Showed Rating');"
   ]
  },
  {
   "cell_type": "markdown",
   "metadata": {},
   "source": [
    "未参加家庭支持计划的患者失约率约为19.8%，参加家庭支持计划的患者失约率约为23.7%，相较而言参加家庭支持计划的患者失约率更高。"
   ]
  },
  {
   "cell_type": "markdown",
   "metadata": {},
   "source": [
    "### Q4：患者是否酗酒，对失约率有无影响？"
   ]
  },
  {
   "cell_type": "code",
   "execution_count": 26,
   "metadata": {},
   "outputs": [
    {
     "data": {
      "image/png": "[encoded data removed]",
      "text/plain": [
       "<Figure size 360x360 with 1 Axes>"
      ]
     },
     "metadata": {},
     "output_type": "display_data"
    }
   ],
   "source": [
    "df['alcoholism'].value_counts().plot.pie(explode=[0.2,0.1],autopct='%.2f%%', figsize=(5, 5))\n",
    "plt.title('Alcoholism VS Percentage');"
   ]
  },
  {
   "cell_type": "markdown",
   "metadata": {},
   "source": [
    "数据显示酗酒的患者约占3.04%，无酗酒习惯的患者约占96.96%。"
   ]
  },
  {
   "cell_type": "code",
   "execution_count": 27,
   "metadata": {
    "scrolled": true
   },
   "outputs": [
    {
     "name": "stdout",
     "output_type": "stream",
     "text": [
      "alcoholism\n",
      "0    0.201948\n",
      "1    0.201488\n",
      "Name: no_show, dtype: float64\n"
     ]
    }
   ],
   "source": [
    "alc_rate = df.groupby('alcoholism')['no_show'].mean()\n",
    "print(alc_rate)"
   ]
  },
  {
   "cell_type": "code",
   "execution_count": 28,
   "metadata": {},
   "outputs": [
    {
     "data": {
      "image/png": "[encoded data removed]",
      "text/plain": [
       "<Figure size 432x288 with 1 Axes>"
      ]
     },
     "metadata": {
      "needs_background": "light"
     },
     "output_type": "display_data"
    }
   ],
   "source": [
    "locations = [1, 2]\n",
    "heights = [alc_rate[0], alc_rate[1]]\n",
    "labels = ['Not', 'Alcoholism']\n",
    "plt.bar(locations, heights, tick_label=labels)\n",
    "plt.title('Alcoholism VS No-Show')\n",
    "plt.xlabel('Alcoholism or NOT')\n",
    "plt.ylabel('No-Showed Rating');"
   ]
  },
  {
   "cell_type": "markdown",
   "metadata": {},
   "source": [
    "无酗酒习惯患者失约率约为20.2%，酗酒患者失约率约为20.1%，两者相差不大，说明酗酒与否与是否如约就诊无太大关联。"
   ]
  },
  {
   "cell_type": "markdown",
   "metadata": {},
   "source": [
    "### Q5：患者的性别，对失约率有无影响？"
   ]
  },
  {
   "cell_type": "code",
   "execution_count": 29,
   "metadata": {},
   "outputs": [
    {
     "data": {
      "image/png": "[encoded data removed]",
      "text/plain": [
       "<Figure size 360x360 with 1 Axes>"
      ]
     },
     "metadata": {},
     "output_type": "display_data"
    }
   ],
   "source": [
    "df['gender'].value_counts().plot.pie(explode=[0.2,0.1],autopct='%.2f%%', figsize=(5, 5))\n",
    "plt.title('Gender VS Percentage');"
   ]
  },
  {
   "cell_type": "markdown",
   "metadata": {},
   "source": [
    "数据显示男性患者约占35%，女性患者约占65%。"
   ]
  },
  {
   "cell_type": "code",
   "execution_count": 30,
   "metadata": {},
   "outputs": [
    {
     "name": "stdout",
     "output_type": "stream",
     "text": [
      "gender\n",
      "F    0.203149\n",
      "M    0.199679\n",
      "Name: no_show, dtype: float64\n"
     ]
    }
   ],
   "source": [
    "gen_rate = df.groupby('gender')['no_show'].mean()\n",
    "print(gen_rate)"
   ]
  },
  {
   "cell_type": "code",
   "execution_count": 31,
   "metadata": {},
   "outputs": [
    {
     "data": {
      "image/png": "[encoded data removed]",
      "text/plain": [
       "<Figure size 432x288 with 1 Axes>"
      ]
     },
     "metadata": {
      "needs_background": "light"
     },
     "output_type": "display_data"
    }
   ],
   "source": [
    "locations = [1, 2]\n",
    "heights = [gen_rate[0], gen_rate[1]]\n",
    "labels = ['Female', 'Male']\n",
    "plt.bar(locations, heights, tick_label=labels)\n",
    "plt.title('Gender VS No-Show')\n",
    "plt.xlabel('Gender')\n",
    "plt.ylabel('No-Showed Rating');"
   ]
  },
  {
   "cell_type": "markdown",
   "metadata": {},
   "source": [
    "女性患者失约率约为20.3%，男性患者失约率约为20.0%，两者相差不大，说明性别与是否如约就诊无太大关联。"
   ]
  },
  {
   "cell_type": "markdown",
   "metadata": {},
   "source": [
    "### 其他探索"
   ]
  },
  {
   "cell_type": "code",
   "execution_count": 32,
   "metadata": {},
   "outputs": [
    {
     "data": {
      "text/html": [
       "<div>\n",
       "<style scoped>\n",
       "    .dataframe tbody tr th:only-of-type {\n",
       "        vertical-align: middle;\n",
       "    }\n",
       "\n",
       "    .dataframe tbody tr th {\n",
       "        vertical-align: top;\n",
       "    }\n",
       "\n",
       "    .dataframe thead th {\n",
       "        text-align: right;\n",
       "    }\n",
       "</style>\n",
       "<table border=\"1\" class=\"dataframe\">\n",
       "  <thead>\n",
       "    <tr style=\"text-align: right;\">\n",
       "      <th></th>\n",
       "      <th>age</th>\n",
       "      <th>scholarship</th>\n",
       "      <th>hipertension</th>\n",
       "      <th>diabetes</th>\n",
       "      <th>alcoholism</th>\n",
       "      <th>handcap</th>\n",
       "      <th>sms_received</th>\n",
       "      <th>no_show</th>\n",
       "    </tr>\n",
       "  </thead>\n",
       "  <tbody>\n",
       "    <tr>\n",
       "      <th>age</th>\n",
       "      <td>1.000000</td>\n",
       "      <td>-0.092463</td>\n",
       "      <td>0.504586</td>\n",
       "      <td>0.292391</td>\n",
       "      <td>0.095810</td>\n",
       "      <td>0.078032</td>\n",
       "      <td>0.012633</td>\n",
       "      <td>-0.060327</td>\n",
       "    </tr>\n",
       "    <tr>\n",
       "      <th>scholarship</th>\n",
       "      <td>-0.092463</td>\n",
       "      <td>1.000000</td>\n",
       "      <td>-0.019730</td>\n",
       "      <td>-0.024894</td>\n",
       "      <td>0.035022</td>\n",
       "      <td>-0.008587</td>\n",
       "      <td>0.001192</td>\n",
       "      <td>0.029134</td>\n",
       "    </tr>\n",
       "    <tr>\n",
       "      <th>hipertension</th>\n",
       "      <td>0.504586</td>\n",
       "      <td>-0.019730</td>\n",
       "      <td>1.000000</td>\n",
       "      <td>0.433085</td>\n",
       "      <td>0.087970</td>\n",
       "      <td>0.080083</td>\n",
       "      <td>-0.006270</td>\n",
       "      <td>-0.035704</td>\n",
       "    </tr>\n",
       "    <tr>\n",
       "      <th>diabetes</th>\n",
       "      <td>0.292391</td>\n",
       "      <td>-0.024894</td>\n",
       "      <td>0.433085</td>\n",
       "      <td>1.000000</td>\n",
       "      <td>0.018473</td>\n",
       "      <td>0.057530</td>\n",
       "      <td>-0.014552</td>\n",
       "      <td>-0.015181</td>\n",
       "    </tr>\n",
       "    <tr>\n",
       "      <th>alcoholism</th>\n",
       "      <td>0.095810</td>\n",
       "      <td>0.035022</td>\n",
       "      <td>0.087970</td>\n",
       "      <td>0.018473</td>\n",
       "      <td>1.000000</td>\n",
       "      <td>0.004647</td>\n",
       "      <td>-0.026149</td>\n",
       "      <td>-0.000197</td>\n",
       "    </tr>\n",
       "    <tr>\n",
       "      <th>handcap</th>\n",
       "      <td>0.078032</td>\n",
       "      <td>-0.008587</td>\n",
       "      <td>0.080083</td>\n",
       "      <td>0.057530</td>\n",
       "      <td>0.004647</td>\n",
       "      <td>1.000000</td>\n",
       "      <td>-0.024162</td>\n",
       "      <td>-0.006077</td>\n",
       "    </tr>\n",
       "    <tr>\n",
       "      <th>sms_received</th>\n",
       "      <td>0.012633</td>\n",
       "      <td>0.001192</td>\n",
       "      <td>-0.006270</td>\n",
       "      <td>-0.014552</td>\n",
       "      <td>-0.026149</td>\n",
       "      <td>-0.024162</td>\n",
       "      <td>1.000000</td>\n",
       "      <td>0.126428</td>\n",
       "    </tr>\n",
       "    <tr>\n",
       "      <th>no_show</th>\n",
       "      <td>-0.060327</td>\n",
       "      <td>0.029134</td>\n",
       "      <td>-0.035704</td>\n",
       "      <td>-0.015181</td>\n",
       "      <td>-0.000197</td>\n",
       "      <td>-0.006077</td>\n",
       "      <td>0.126428</td>\n",
       "      <td>1.000000</td>\n",
       "    </tr>\n",
       "  </tbody>\n",
       "</table>\n",
       "</div>"
      ],
      "text/plain": [
       "                   age  scholarship  hipertension  diabetes  alcoholism  \\\n",
       "age           1.000000    -0.092463      0.504586  0.292391    0.095810   \n",
       "scholarship  -0.092463     1.000000     -0.019730 -0.024894    0.035022   \n",
       "hipertension  0.504586    -0.019730      1.000000  0.433085    0.087970   \n",
       "diabetes      0.292391    -0.024894      0.433085  1.000000    0.018473   \n",
       "alcoholism    0.095810     0.035022      0.087970  0.018473    1.000000   \n",
       "handcap       0.078032    -0.008587      0.080083  0.057530    0.004647   \n",
       "sms_received  0.012633     0.001192     -0.006270 -0.014552   -0.026149   \n",
       "no_show      -0.060327     0.029134     -0.035704 -0.015181   -0.000197   \n",
       "\n",
       "               handcap  sms_received   no_show  \n",
       "age           0.078032      0.012633 -0.060327  \n",
       "scholarship  -0.008587      0.001192  0.029134  \n",
       "hipertension  0.080083     -0.006270 -0.035704  \n",
       "diabetes      0.057530     -0.014552 -0.015181  \n",
       "alcoholism    0.004647     -0.026149 -0.000197  \n",
       "handcap       1.000000     -0.024162 -0.006077  \n",
       "sms_received -0.024162      1.000000  0.126428  \n",
       "no_show      -0.006077      0.126428  1.000000  "
      ]
     },
     "execution_count": 32,
     "metadata": {},
     "output_type": "execute_result"
    }
   ],
   "source": [
    "df.corr()"
   ]
  },
  {
   "cell_type": "markdown",
   "metadata": {},
   "source": [
    "##### 发现：年龄与是否患有高血压有较强正相关关系，而是否患有高血压与是否患有糖尿病也有较强正相关关系。"
   ]
  },
  {
   "cell_type": "markdown",
   "metadata": {},
   "source": [
    "<a id='conclusions'></a>\n",
    "## 结论\n",
    "### 提升短信通知覆盖率或能提高患者就诊率\n",
    "#### 1：未收到短信的患者失约率相对较高\n",
    "#### 2：40岁以下的患者失约率相对较高\n",
    "#### 3：参加福利项目的患者失约率相对较高\n",
    "#### 4：是否酗酒对于患者失约无显著影响\n",
    "#### 5：性别对患者失约无显著影响\n",
    "\n",
    "##### 局限性：大多数数据是按照“1或0”来标识“是或否”的，如原始数据有误不易被排查出来。"
   ]
  },
  {
   "cell_type": "code",
   "execution_count": 33,
   "metadata": {
    "scrolled": true
   },
   "outputs": [
    {
     "data": {
      "text/plain": [
       "4294967295"
      ]
     },
     "execution_count": 33,
     "metadata": {},
     "output_type": "execute_result"
    }
   ],
   "source": [
    "from subprocess import call\n",
    "call(['python', '-m', 'nbconvert', 'Investigate_a_Dataset.ipynb'])"
   ]
  }
 ],
 "metadata": {
  "kernelspec": {
   "display_name": "Python 3",
   "language": "python",
   "name": "python3"
  },
  "language_info": {
   "codemirror_mode": {
    "name": "ipython",
    "version": 3
   },
   "file_extension": ".py",
   "mimetype": "text/x-python",
   "name": "python",
   "nbconvert_exporter": "python",
   "pygments_lexer": "ipython3",
   "version": "3.7.1"
  }
 },
 "nbformat": 4,
 "nbformat_minor": 2
}
